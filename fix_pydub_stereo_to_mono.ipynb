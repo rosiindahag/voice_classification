{
 "cells": [
  {
   "cell_type": "code",
   "execution_count": null,
   "id": "232ac78a-3920-4df4-a61a-dea106fb5268",
   "metadata": {},
   "outputs": [],
   "source": [
    "# Python3 program to illustrate\n",
    "# splitting stereo audio to mono\n",
    "# using pydub\n",
    "\n",
    "# Import AudioSegment from pydub\n",
    "from pydub import AudioSegment\n",
    "\n",
    "# Open the stereo audio file as\n",
    "# an AudioSegment instance\n",
    "stereo_audio = AudioSegment.from_file(\n",
    "\t\"C:\\\\Users\\\\Visual\\\\example-librosa\\\\PMEmo_dataset\\\\PMEmo2019\\\\vocal_byria\\\\Vocali.se*vocals.wav\",\n",
    "\tformat=\"wav\")\n",
    "\n",
    "# Calling the split_to_mono method\n",
    "# on the stereo audio file\n",
    "mono_audios = stereo_audio.split_to_mono()\n",
    "\n",
    "# Exporting/Saving the two mono\n",
    "# audio files present at index 0(left)\n",
    "# and index 1(right) of list returned\n",
    "# by split_to_mono method\n",
    "mono_left = mono_audios[0].export(\n",
    "\t\"C:\\\\Users\\\\Visual\\\\example-librosa\\\\PMEmo_dataset\\\\PMEmo2019\\\\vocal_byria\\\\mono\\\\Vocali.se*vocals_mono_left.wav\",\n",
    "\tformat=\"wav\")\n",
    "mono_right = mono_audios[1].export(\n",
    "\t\"C:\\\\Users\\\\Visual\\\\example-librosa\\\\PMEmo_dataset\\\\PMEmo2019\\\\vocal_byria\\\\mono\\\\Vocali.se*vocals_mono_right.wav\",\n",
    "\tformat=\"wav\")\n"
   ]
  },
  {
   "cell_type": "markdown",
   "id": "bce749ee-0e02-4492-a404-ecc939905c66",
   "metadata": {
    "tags": []
   },
   "source": [
    "## yang fix"
   ]
  },
  {
   "cell_type": "code",
   "execution_count": 3,
   "id": "b8911165-c444-4dcb-afc4-c59206b559d3",
   "metadata": {},
   "outputs": [],
   "source": [
    "from pydub import AudioSegment\n",
    "import os, glob, pickle"
   ]
  },
  {
   "cell_type": "code",
   "execution_count": 6,
   "id": "3d0fcbae-5af6-4488-a2c4-706be1794e2d",
   "metadata": {},
   "outputs": [
    {
     "name": "stdout",
     "output_type": "stream",
     "text": [
      "267\n"
     ]
    }
   ],
   "source": [
    "i = 1\n",
    "for file in glob.glob(\"C:\\\\Users\\\\Visual\\\\example-librosa\\\\PMEmo_dataset\\\\PMEmo2019\\\\vocal_byria\\\\titip\\\\Vocali.se*vocals.wav\"):\n",
    "    file_name=os.path.basename(file)\n",
    "    head, tail = os.path.split(file_name)\n",
    "    stereo_audio = AudioSegment.from_file(file,\tformat=\"wav\")\n",
    "    mono_audios = stereo_audio.split_to_mono()\n",
    "#     mono_left = mono_audios[0].export(file[:-4]+\"_mono_left\"+str(i)+\".wav\", format=\"wav\")\n",
    "    mono_right = mono_audios[1].export(\"C:\\\\Users\\\\Visual\\\\example-librosa\\\\PMEmo_dataset\\\\PMEmo2019\\\\vocal_byria\\\\mono3\\\\\"+tail[15:-4]+\"_mono_right.wav\",format=\"wav\")\n",
    "    i = i+1\n",
    "print(i)"
   ]
  }
 ],
 "metadata": {
  "kernelspec": {
   "display_name": "Python 3 (ipykernel)",
   "language": "python",
   "name": "python3"
  },
  "language_info": {
   "codemirror_mode": {
    "name": "ipython",
    "version": 3
   },
   "file_extension": ".py",
   "mimetype": "text/x-python",
   "name": "python",
   "nbconvert_exporter": "python",
   "pygments_lexer": "ipython3",
   "version": "3.7.6"
  }
 },
 "nbformat": 4,
 "nbformat_minor": 5
}
