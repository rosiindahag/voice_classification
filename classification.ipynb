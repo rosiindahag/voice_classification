{
 "cells": [
  {
   "cell_type": "markdown",
   "id": "7d4f0421-9886-49aa-bc09-9b2c2e6734fc",
   "metadata": {},
   "source": [
    "## Import Data"
   ]
  },
  {
   "cell_type": "code",
   "execution_count": 1,
   "id": "b7ad752e-622f-405e-b81b-1d71198d3277",
   "metadata": {},
   "outputs": [],
   "source": [
    "import pandas as pd\n",
    "import numpy as np"
   ]
  },
  {
   "cell_type": "code",
   "execution_count": 6,
   "id": "d964d930-8410-48c1-b468-42ec897740bb",
   "metadata": {},
   "outputs": [
    {
     "data": {
      "text/html": [
       "<div>\n",
       "<style scoped>\n",
       "    .dataframe tbody tr th:only-of-type {\n",
       "        vertical-align: middle;\n",
       "    }\n",
       "\n",
       "    .dataframe tbody tr th {\n",
       "        vertical-align: top;\n",
       "    }\n",
       "\n",
       "    .dataframe thead th {\n",
       "        text-align: right;\n",
       "    }\n",
       "</style>\n",
       "<table border=\"1\" class=\"dataframe\">\n",
       "  <thead>\n",
       "    <tr style=\"text-align: right;\">\n",
       "      <th></th>\n",
       "      <th>musicId</th>\n",
       "      <th>1</th>\n",
       "      <th>2</th>\n",
       "      <th>3</th>\n",
       "      <th>4</th>\n",
       "      <th>5</th>\n",
       "      <th>6</th>\n",
       "      <th>7</th>\n",
       "      <th>8</th>\n",
       "      <th>9</th>\n",
       "      <th>...</th>\n",
       "      <th>45</th>\n",
       "      <th>46</th>\n",
       "      <th>47</th>\n",
       "      <th>48</th>\n",
       "      <th>49</th>\n",
       "      <th>50</th>\n",
       "      <th>51</th>\n",
       "      <th>52</th>\n",
       "      <th>arousal(mean)</th>\n",
       "      <th>valence(mean)</th>\n",
       "    </tr>\n",
       "  </thead>\n",
       "  <tbody>\n",
       "    <tr>\n",
       "      <th>0</th>\n",
       "      <td>244</td>\n",
       "      <td>0.736870</td>\n",
       "      <td>0.819360</td>\n",
       "      <td>0.363572</td>\n",
       "      <td>0.674912</td>\n",
       "      <td>0.608155</td>\n",
       "      <td>0.721918</td>\n",
       "      <td>0.418320</td>\n",
       "      <td>0.215462</td>\n",
       "      <td>0.519016</td>\n",
       "      <td>...</td>\n",
       "      <td>0.918557</td>\n",
       "      <td>0.866757</td>\n",
       "      <td>0.697559</td>\n",
       "      <td>0.777787</td>\n",
       "      <td>0.731747</td>\n",
       "      <td>0.770166</td>\n",
       "      <td>0.781191</td>\n",
       "      <td>0.798252</td>\n",
       "      <td>0.287500</td>\n",
       "      <td>0.412500</td>\n",
       "    </tr>\n",
       "    <tr>\n",
       "      <th>1</th>\n",
       "      <td>12</td>\n",
       "      <td>0.518414</td>\n",
       "      <td>0.334808</td>\n",
       "      <td>0.888076</td>\n",
       "      <td>0.680080</td>\n",
       "      <td>0.625788</td>\n",
       "      <td>0.554501</td>\n",
       "      <td>1.000000</td>\n",
       "      <td>0.551382</td>\n",
       "      <td>0.319966</td>\n",
       "      <td>...</td>\n",
       "      <td>0.547005</td>\n",
       "      <td>0.493716</td>\n",
       "      <td>0.348376</td>\n",
       "      <td>0.504628</td>\n",
       "      <td>0.348218</td>\n",
       "      <td>0.258203</td>\n",
       "      <td>0.261488</td>\n",
       "      <td>0.543882</td>\n",
       "      <td>0.687500</td>\n",
       "      <td>0.575000</td>\n",
       "    </tr>\n",
       "    <tr>\n",
       "      <th>2</th>\n",
       "      <td>60</td>\n",
       "      <td>0.848720</td>\n",
       "      <td>0.664322</td>\n",
       "      <td>0.554515</td>\n",
       "      <td>0.780982</td>\n",
       "      <td>0.373103</td>\n",
       "      <td>0.591311</td>\n",
       "      <td>0.648466</td>\n",
       "      <td>0.302966</td>\n",
       "      <td>0.530206</td>\n",
       "      <td>...</td>\n",
       "      <td>0.426591</td>\n",
       "      <td>0.545657</td>\n",
       "      <td>0.572830</td>\n",
       "      <td>0.859357</td>\n",
       "      <td>0.381036</td>\n",
       "      <td>0.377555</td>\n",
       "      <td>0.464152</td>\n",
       "      <td>0.509618</td>\n",
       "      <td>0.420455</td>\n",
       "      <td>0.409091</td>\n",
       "    </tr>\n",
       "    <tr>\n",
       "      <th>3</th>\n",
       "      <td>217</td>\n",
       "      <td>0.611904</td>\n",
       "      <td>0.564931</td>\n",
       "      <td>0.613551</td>\n",
       "      <td>0.467711</td>\n",
       "      <td>0.596542</td>\n",
       "      <td>0.623836</td>\n",
       "      <td>0.488641</td>\n",
       "      <td>0.243492</td>\n",
       "      <td>0.617306</td>\n",
       "      <td>...</td>\n",
       "      <td>0.528625</td>\n",
       "      <td>0.604054</td>\n",
       "      <td>0.141768</td>\n",
       "      <td>0.109834</td>\n",
       "      <td>0.095798</td>\n",
       "      <td>0.277068</td>\n",
       "      <td>0.379223</td>\n",
       "      <td>0.258459</td>\n",
       "      <td>0.612500</td>\n",
       "      <td>0.575000</td>\n",
       "    </tr>\n",
       "    <tr>\n",
       "      <th>4</th>\n",
       "      <td>273</td>\n",
       "      <td>0.602871</td>\n",
       "      <td>0.748947</td>\n",
       "      <td>0.539451</td>\n",
       "      <td>0.800582</td>\n",
       "      <td>0.560585</td>\n",
       "      <td>0.638552</td>\n",
       "      <td>0.733598</td>\n",
       "      <td>0.272808</td>\n",
       "      <td>0.707519</td>\n",
       "      <td>...</td>\n",
       "      <td>0.844177</td>\n",
       "      <td>0.695128</td>\n",
       "      <td>0.642626</td>\n",
       "      <td>0.762079</td>\n",
       "      <td>0.701334</td>\n",
       "      <td>0.770606</td>\n",
       "      <td>0.664851</td>\n",
       "      <td>0.745226</td>\n",
       "      <td>0.337500</td>\n",
       "      <td>0.362500</td>\n",
       "    </tr>\n",
       "    <tr>\n",
       "      <th>...</th>\n",
       "      <td>...</td>\n",
       "      <td>...</td>\n",
       "      <td>...</td>\n",
       "      <td>...</td>\n",
       "      <td>...</td>\n",
       "      <td>...</td>\n",
       "      <td>...</td>\n",
       "      <td>...</td>\n",
       "      <td>...</td>\n",
       "      <td>...</td>\n",
       "      <td>...</td>\n",
       "      <td>...</td>\n",
       "      <td>...</td>\n",
       "      <td>...</td>\n",
       "      <td>...</td>\n",
       "      <td>...</td>\n",
       "      <td>...</td>\n",
       "      <td>...</td>\n",
       "      <td>...</td>\n",
       "      <td>...</td>\n",
       "      <td>...</td>\n",
       "    </tr>\n",
       "    <tr>\n",
       "      <th>194</th>\n",
       "      <td>144</td>\n",
       "      <td>0.839844</td>\n",
       "      <td>0.781357</td>\n",
       "      <td>0.436745</td>\n",
       "      <td>0.402436</td>\n",
       "      <td>0.479489</td>\n",
       "      <td>0.696192</td>\n",
       "      <td>0.717142</td>\n",
       "      <td>0.142091</td>\n",
       "      <td>0.396126</td>\n",
       "      <td>...</td>\n",
       "      <td>0.391911</td>\n",
       "      <td>0.472605</td>\n",
       "      <td>0.403027</td>\n",
       "      <td>0.489313</td>\n",
       "      <td>0.348634</td>\n",
       "      <td>0.660650</td>\n",
       "      <td>0.747129</td>\n",
       "      <td>0.565518</td>\n",
       "      <td>0.862500</td>\n",
       "      <td>0.825000</td>\n",
       "    </tr>\n",
       "    <tr>\n",
       "      <th>195</th>\n",
       "      <td>316</td>\n",
       "      <td>0.854586</td>\n",
       "      <td>0.929686</td>\n",
       "      <td>0.320021</td>\n",
       "      <td>0.387621</td>\n",
       "      <td>0.601151</td>\n",
       "      <td>0.454913</td>\n",
       "      <td>0.385334</td>\n",
       "      <td>0.217281</td>\n",
       "      <td>0.393628</td>\n",
       "      <td>...</td>\n",
       "      <td>0.797402</td>\n",
       "      <td>0.706248</td>\n",
       "      <td>0.592063</td>\n",
       "      <td>0.664048</td>\n",
       "      <td>0.687965</td>\n",
       "      <td>0.678531</td>\n",
       "      <td>0.658530</td>\n",
       "      <td>0.768999</td>\n",
       "      <td>0.887500</td>\n",
       "      <td>0.862500</td>\n",
       "    </tr>\n",
       "    <tr>\n",
       "      <th>196</th>\n",
       "      <td>224</td>\n",
       "      <td>0.573366</td>\n",
       "      <td>0.675094</td>\n",
       "      <td>0.648893</td>\n",
       "      <td>0.667260</td>\n",
       "      <td>0.794199</td>\n",
       "      <td>1.000000</td>\n",
       "      <td>0.808637</td>\n",
       "      <td>0.316829</td>\n",
       "      <td>0.525087</td>\n",
       "      <td>...</td>\n",
       "      <td>0.855340</td>\n",
       "      <td>0.730280</td>\n",
       "      <td>0.507312</td>\n",
       "      <td>0.520237</td>\n",
       "      <td>0.495118</td>\n",
       "      <td>0.656808</td>\n",
       "      <td>0.726789</td>\n",
       "      <td>0.669540</td>\n",
       "      <td>0.587500</td>\n",
       "      <td>0.500000</td>\n",
       "    </tr>\n",
       "    <tr>\n",
       "      <th>197</th>\n",
       "      <td>40</td>\n",
       "      <td>0.732544</td>\n",
       "      <td>0.601373</td>\n",
       "      <td>0.548688</td>\n",
       "      <td>0.707527</td>\n",
       "      <td>0.474967</td>\n",
       "      <td>0.850064</td>\n",
       "      <td>0.465982</td>\n",
       "      <td>0.243383</td>\n",
       "      <td>0.735805</td>\n",
       "      <td>...</td>\n",
       "      <td>0.485750</td>\n",
       "      <td>0.507460</td>\n",
       "      <td>0.517761</td>\n",
       "      <td>0.712468</td>\n",
       "      <td>0.480726</td>\n",
       "      <td>0.482424</td>\n",
       "      <td>0.413377</td>\n",
       "      <td>0.321743</td>\n",
       "      <td>0.375000</td>\n",
       "      <td>0.662500</td>\n",
       "    </tr>\n",
       "    <tr>\n",
       "      <th>198</th>\n",
       "      <td>295</td>\n",
       "      <td>0.713359</td>\n",
       "      <td>0.574845</td>\n",
       "      <td>0.534487</td>\n",
       "      <td>0.736502</td>\n",
       "      <td>0.660199</td>\n",
       "      <td>0.538901</td>\n",
       "      <td>0.687034</td>\n",
       "      <td>0.415552</td>\n",
       "      <td>0.118188</td>\n",
       "      <td>...</td>\n",
       "      <td>0.530447</td>\n",
       "      <td>0.409006</td>\n",
       "      <td>0.359349</td>\n",
       "      <td>0.403701</td>\n",
       "      <td>0.599456</td>\n",
       "      <td>0.816101</td>\n",
       "      <td>0.604531</td>\n",
       "      <td>0.703539</td>\n",
       "      <td>0.725000</td>\n",
       "      <td>0.750000</td>\n",
       "    </tr>\n",
       "  </tbody>\n",
       "</table>\n",
       "<p>199 rows × 55 columns</p>\n",
       "</div>"
      ],
      "text/plain": [
       "     musicId         1         2         3         4         5         6  \\\n",
       "0        244  0.736870  0.819360  0.363572  0.674912  0.608155  0.721918   \n",
       "1         12  0.518414  0.334808  0.888076  0.680080  0.625788  0.554501   \n",
       "2         60  0.848720  0.664322  0.554515  0.780982  0.373103  0.591311   \n",
       "3        217  0.611904  0.564931  0.613551  0.467711  0.596542  0.623836   \n",
       "4        273  0.602871  0.748947  0.539451  0.800582  0.560585  0.638552   \n",
       "..       ...       ...       ...       ...       ...       ...       ...   \n",
       "194      144  0.839844  0.781357  0.436745  0.402436  0.479489  0.696192   \n",
       "195      316  0.854586  0.929686  0.320021  0.387621  0.601151  0.454913   \n",
       "196      224  0.573366  0.675094  0.648893  0.667260  0.794199  1.000000   \n",
       "197       40  0.732544  0.601373  0.548688  0.707527  0.474967  0.850064   \n",
       "198      295  0.713359  0.574845  0.534487  0.736502  0.660199  0.538901   \n",
       "\n",
       "            7         8         9  ...        45        46        47  \\\n",
       "0    0.418320  0.215462  0.519016  ...  0.918557  0.866757  0.697559   \n",
       "1    1.000000  0.551382  0.319966  ...  0.547005  0.493716  0.348376   \n",
       "2    0.648466  0.302966  0.530206  ...  0.426591  0.545657  0.572830   \n",
       "3    0.488641  0.243492  0.617306  ...  0.528625  0.604054  0.141768   \n",
       "4    0.733598  0.272808  0.707519  ...  0.844177  0.695128  0.642626   \n",
       "..        ...       ...       ...  ...       ...       ...       ...   \n",
       "194  0.717142  0.142091  0.396126  ...  0.391911  0.472605  0.403027   \n",
       "195  0.385334  0.217281  0.393628  ...  0.797402  0.706248  0.592063   \n",
       "196  0.808637  0.316829  0.525087  ...  0.855340  0.730280  0.507312   \n",
       "197  0.465982  0.243383  0.735805  ...  0.485750  0.507460  0.517761   \n",
       "198  0.687034  0.415552  0.118188  ...  0.530447  0.409006  0.359349   \n",
       "\n",
       "           48        49        50        51        52  arousal(mean)  \\\n",
       "0    0.777787  0.731747  0.770166  0.781191  0.798252       0.287500   \n",
       "1    0.504628  0.348218  0.258203  0.261488  0.543882       0.687500   \n",
       "2    0.859357  0.381036  0.377555  0.464152  0.509618       0.420455   \n",
       "3    0.109834  0.095798  0.277068  0.379223  0.258459       0.612500   \n",
       "4    0.762079  0.701334  0.770606  0.664851  0.745226       0.337500   \n",
       "..        ...       ...       ...       ...       ...            ...   \n",
       "194  0.489313  0.348634  0.660650  0.747129  0.565518       0.862500   \n",
       "195  0.664048  0.687965  0.678531  0.658530  0.768999       0.887500   \n",
       "196  0.520237  0.495118  0.656808  0.726789  0.669540       0.587500   \n",
       "197  0.712468  0.480726  0.482424  0.413377  0.321743       0.375000   \n",
       "198  0.403701  0.599456  0.816101  0.604531  0.703539       0.725000   \n",
       "\n",
       "     valence(mean)  \n",
       "0         0.412500  \n",
       "1         0.575000  \n",
       "2         0.409091  \n",
       "3         0.575000  \n",
       "4         0.362500  \n",
       "..             ...  \n",
       "194       0.825000  \n",
       "195       0.862500  \n",
       "196       0.500000  \n",
       "197       0.662500  \n",
       "198       0.750000  \n",
       "\n",
       "[199 rows x 55 columns]"
      ]
     },
     "execution_count": 6,
     "metadata": {},
     "output_type": "execute_result"
    }
   ],
   "source": [
    "train_data = pd.read_csv('data_training_80.csv',)\n",
    "test_data = pd.read_csv('data_testing_20.csv',)\n",
    "train_data"
   ]
  },
  {
   "cell_type": "code",
   "execution_count": 11,
   "id": "b4a02200-8524-4bb3-901d-0b8c964ffa54",
   "metadata": {},
   "outputs": [
    {
     "data": {
      "text/plain": [
       "array([[2.44000000e+02, 7.36869592e-01, 8.19359594e-01, ...,\n",
       "        7.98251739e-01, 2.87500000e-01, 4.12500000e-01],\n",
       "       [1.20000000e+01, 5.18413726e-01, 3.34808395e-01, ...,\n",
       "        5.43882027e-01, 6.87500000e-01, 5.75000000e-01],\n",
       "       [6.00000000e+01, 8.48720285e-01, 6.64322157e-01, ...,\n",
       "        5.09617934e-01, 4.20454545e-01, 4.09090909e-01],\n",
       "       ...,\n",
       "       [2.24000000e+02, 5.73366278e-01, 6.75094159e-01, ...,\n",
       "        6.69539755e-01, 5.87500000e-01, 5.00000000e-01],\n",
       "       [4.00000000e+01, 7.32544384e-01, 6.01372963e-01, ...,\n",
       "        3.21742788e-01, 3.75000000e-01, 6.62500000e-01],\n",
       "       [2.95000000e+02, 7.13358642e-01, 5.74845349e-01, ...,\n",
       "        7.03539363e-01, 7.25000000e-01, 7.50000000e-01]])"
      ]
     },
     "execution_count": 11,
     "metadata": {},
     "output_type": "execute_result"
    }
   ],
   "source": [
    "train_data = np.array(train_data)\n",
    "test_data = np.array(test_data)\n",
    "#the number of columns\n",
    "len_data = np.size(train_data,axis=1)\n",
    "train_data"
   ]
  },
  {
   "cell_type": "code",
   "execution_count": 12,
   "id": "d197cdf2-88bf-466f-aafd-1c851af6a0bb",
   "metadata": {},
   "outputs": [],
   "source": [
    "#separate musicId, features, arousal(mean), valence(mean) in training data\n",
    "musicId_train = np.int_(train_data[:,0:1])\n",
    "features_train = train_data[:,1:len_data-2]\n",
    "number_of_features = np.size(features_train[0],axis=0)\n",
    "arousal_mean_train = train_data[:,len_data-2]\n",
    "valence_mean_train = train_data[:,len_data-1]"
   ]
  },
  {
   "cell_type": "code",
   "execution_count": 14,
   "id": "e5f8d6b8-ecd6-48e7-ad21-23a4e209668b",
   "metadata": {},
   "outputs": [
    {
     "data": {
      "text/plain": [
       "array([244])"
      ]
     },
     "execution_count": 14,
     "metadata": {},
     "output_type": "execute_result"
    }
   ],
   "source": [
    "musicId_train[0]"
   ]
  },
  {
   "cell_type": "code",
   "execution_count": 15,
   "id": "4748806d-7498-42e8-b023-b991cc8b1467",
   "metadata": {},
   "outputs": [],
   "source": [
    "#separate musicId, features, arousal(mean), valence(mean) in testing data\n",
    "musicId_test = np.int_(test_data[:,0:1])\n",
    "features_test = test_data[:,1:len_data-2]\n",
    "number_of_features = np.size(features_test[0],axis=0)\n",
    "arousal_mean_test = test_data[:,len_data-2]\n",
    "valence_mean_test = test_data[:,len_data-1]"
   ]
  },
  {
   "cell_type": "code",
   "execution_count": 30,
   "id": "46c6fa9d-dc72-4c81-a17f-5826bfc7142e",
   "metadata": {},
   "outputs": [
    {
     "data": {
      "text/plain": [
       "0.2875"
      ]
     },
     "execution_count": 30,
     "metadata": {},
     "output_type": "execute_result"
    }
   ],
   "source": [
    "arousal_mean_train[0]"
   ]
  },
  {
   "cell_type": "code",
   "execution_count": 31,
   "id": "3ca3aaa8-a100-434a-b410-5ede4db482ed",
   "metadata": {},
   "outputs": [
    {
     "data": {
      "text/plain": [
       "0.4125"
      ]
     },
     "execution_count": 31,
     "metadata": {},
     "output_type": "execute_result"
    }
   ],
   "source": [
    "valence_mean_train[0]"
   ]
  },
  {
   "cell_type": "markdown",
   "id": "6234123f-45cc-4733-81b3-9cac53866af1",
   "metadata": {
    "tags": []
   },
   "source": [
    "## Classifying"
   ]
  },
  {
   "cell_type": "markdown",
   "id": "8558af15-0fef-4525-aa11-6f812bf1d021",
   "metadata": {},
   "source": [
    "#### Linear Regression for Multioutput Regression"
   ]
  },
  {
   "cell_type": "code",
   "execution_count": 168,
   "id": "b3bc6187-9d28-43dc-9eb2-2f14084e7fb3",
   "metadata": {},
   "outputs": [],
   "source": [
    "from sklearn.linear_model import LinearRegression\n",
    "X = features_train\n",
    "y = train_data[:,len_data-2:len_data]\n",
    "linear_model = LinearRegression()\n",
    "linear_model.fit(X, y)\n",
    "ypred_linear = linear_model.predict(features_train)\n",
    "# print(ypred_linear)"
   ]
  },
  {
   "cell_type": "code",
   "execution_count": 169,
   "id": "4a4ab882-26db-4f39-8857-9d502421b9bb",
   "metadata": {},
   "outputs": [],
   "source": [
    "yactual_train = train_data[:,len_data-2:len_data]"
   ]
  },
  {
   "cell_type": "markdown",
   "id": "736fa7c3-8e1e-4a2b-a967-bcd2442979f9",
   "metadata": {},
   "source": [
    "#### k-Nearest Neighbors for Multioutput Regression"
   ]
  },
  {
   "cell_type": "code",
   "execution_count": 170,
   "id": "534cf847-3ef2-4f47-96ff-163c47308813",
   "metadata": {},
   "outputs": [],
   "source": [
    "from sklearn.neighbors import KNeighborsRegressor\n",
    "knn_model = KNeighborsRegressor(n_neighbors=1)\n",
    "knn_model.fit(X, y)\n",
    "ypred_knn = knn_model.predict(features_train)"
   ]
  },
  {
   "cell_type": "markdown",
   "id": "0c909ad7-01db-4d2c-b182-c11fccc2bc94",
   "metadata": {},
   "source": [
    "## Evaluating"
   ]
  },
  {
   "cell_type": "code",
   "execution_count": 174,
   "id": "556e1ab1-79d2-4859-878a-be3e3bf25ca9",
   "metadata": {},
   "outputs": [
    {
     "name": "stdout",
     "output_type": "stream",
     "text": [
      "RMSE linear regression: 0.10339321810115193\n",
      "RMSE knn regression: 0.004893655517259879\n"
     ]
    }
   ],
   "source": [
    "from sklearn.metrics import mean_squared_error\n",
    "from math import sqrt\n",
    "linear_mse = mean_squared_error(yactual_train, ypred_linear)\n",
    "knn_mse = mean_squared_error(yactual_train, ypred_knn)\n",
    "linear_rmse = sqrt(linear_mse)\n",
    "knn_rmse = sqrt(knn_mse)\n",
    "print(\"RMSE linear regression: \"+str(linear_rmse))\n",
    "print(\"RMSE knn regression: \"+str(knn_rmse))"
   ]
  },
  {
   "cell_type": "code",
   "execution_count": 175,
   "id": "423de7c3-37f9-4a27-98b7-a63c9fdf3367",
   "metadata": {},
   "outputs": [
    {
     "data": {
      "text/html": [
       "<div>\n",
       "<style scoped>\n",
       "    .dataframe tbody tr th:only-of-type {\n",
       "        vertical-align: middle;\n",
       "    }\n",
       "\n",
       "    .dataframe tbody tr th {\n",
       "        vertical-align: top;\n",
       "    }\n",
       "\n",
       "    .dataframe thead th {\n",
       "        text-align: right;\n",
       "    }\n",
       "</style>\n",
       "<table border=\"1\" class=\"dataframe\">\n",
       "  <thead>\n",
       "    <tr style=\"text-align: right;\">\n",
       "      <th></th>\n",
       "      <th>0</th>\n",
       "      <th>1</th>\n",
       "      <th>pred_lin_aro(mean)</th>\n",
       "      <th>pred_lin_val(mean)</th>\n",
       "      <th>pred_knn_aro(mean)</th>\n",
       "      <th>pred_knn_val(mean)</th>\n",
       "    </tr>\n",
       "  </thead>\n",
       "  <tbody>\n",
       "    <tr>\n",
       "      <th>0</th>\n",
       "      <td>0.287500</td>\n",
       "      <td>0.412500</td>\n",
       "      <td>0.413640</td>\n",
       "      <td>0.402486</td>\n",
       "      <td>0.287500</td>\n",
       "      <td>0.412500</td>\n",
       "    </tr>\n",
       "    <tr>\n",
       "      <th>1</th>\n",
       "      <td>0.687500</td>\n",
       "      <td>0.575000</td>\n",
       "      <td>0.541234</td>\n",
       "      <td>0.557953</td>\n",
       "      <td>0.687500</td>\n",
       "      <td>0.575000</td>\n",
       "    </tr>\n",
       "    <tr>\n",
       "      <th>2</th>\n",
       "      <td>0.420455</td>\n",
       "      <td>0.409091</td>\n",
       "      <td>0.564560</td>\n",
       "      <td>0.590901</td>\n",
       "      <td>0.420455</td>\n",
       "      <td>0.409091</td>\n",
       "    </tr>\n",
       "    <tr>\n",
       "      <th>3</th>\n",
       "      <td>0.612500</td>\n",
       "      <td>0.575000</td>\n",
       "      <td>0.651716</td>\n",
       "      <td>0.644837</td>\n",
       "      <td>0.612500</td>\n",
       "      <td>0.575000</td>\n",
       "    </tr>\n",
       "    <tr>\n",
       "      <th>4</th>\n",
       "      <td>0.337500</td>\n",
       "      <td>0.362500</td>\n",
       "      <td>0.380971</td>\n",
       "      <td>0.358706</td>\n",
       "      <td>0.337500</td>\n",
       "      <td>0.362500</td>\n",
       "    </tr>\n",
       "    <tr>\n",
       "      <th>...</th>\n",
       "      <td>...</td>\n",
       "      <td>...</td>\n",
       "      <td>...</td>\n",
       "      <td>...</td>\n",
       "      <td>...</td>\n",
       "      <td>...</td>\n",
       "    </tr>\n",
       "    <tr>\n",
       "      <th>194</th>\n",
       "      <td>0.862500</td>\n",
       "      <td>0.825000</td>\n",
       "      <td>0.772718</td>\n",
       "      <td>0.787109</td>\n",
       "      <td>0.862500</td>\n",
       "      <td>0.825000</td>\n",
       "    </tr>\n",
       "    <tr>\n",
       "      <th>195</th>\n",
       "      <td>0.887500</td>\n",
       "      <td>0.862500</td>\n",
       "      <td>0.783816</td>\n",
       "      <td>0.738239</td>\n",
       "      <td>0.925000</td>\n",
       "      <td>0.862500</td>\n",
       "    </tr>\n",
       "    <tr>\n",
       "      <th>196</th>\n",
       "      <td>0.587500</td>\n",
       "      <td>0.500000</td>\n",
       "      <td>0.385898</td>\n",
       "      <td>0.409376</td>\n",
       "      <td>0.587500</td>\n",
       "      <td>0.500000</td>\n",
       "    </tr>\n",
       "    <tr>\n",
       "      <th>197</th>\n",
       "      <td>0.375000</td>\n",
       "      <td>0.662500</td>\n",
       "      <td>0.510319</td>\n",
       "      <td>0.639237</td>\n",
       "      <td>0.375000</td>\n",
       "      <td>0.662500</td>\n",
       "    </tr>\n",
       "    <tr>\n",
       "      <th>198</th>\n",
       "      <td>0.725000</td>\n",
       "      <td>0.750000</td>\n",
       "      <td>0.643277</td>\n",
       "      <td>0.675115</td>\n",
       "      <td>0.725000</td>\n",
       "      <td>0.750000</td>\n",
       "    </tr>\n",
       "  </tbody>\n",
       "</table>\n",
       "<p>199 rows × 6 columns</p>\n",
       "</div>"
      ],
      "text/plain": [
       "            0         1  pred_lin_aro(mean)  pred_lin_val(mean)  \\\n",
       "0    0.287500  0.412500            0.413640            0.402486   \n",
       "1    0.687500  0.575000            0.541234            0.557953   \n",
       "2    0.420455  0.409091            0.564560            0.590901   \n",
       "3    0.612500  0.575000            0.651716            0.644837   \n",
       "4    0.337500  0.362500            0.380971            0.358706   \n",
       "..        ...       ...                 ...                 ...   \n",
       "194  0.862500  0.825000            0.772718            0.787109   \n",
       "195  0.887500  0.862500            0.783816            0.738239   \n",
       "196  0.587500  0.500000            0.385898            0.409376   \n",
       "197  0.375000  0.662500            0.510319            0.639237   \n",
       "198  0.725000  0.750000            0.643277            0.675115   \n",
       "\n",
       "     pred_knn_aro(mean)  pred_knn_val(mean)  \n",
       "0              0.287500            0.412500  \n",
       "1              0.687500            0.575000  \n",
       "2              0.420455            0.409091  \n",
       "3              0.612500            0.575000  \n",
       "4              0.337500            0.362500  \n",
       "..                  ...                 ...  \n",
       "194            0.862500            0.825000  \n",
       "195            0.925000            0.862500  \n",
       "196            0.587500            0.500000  \n",
       "197            0.375000            0.662500  \n",
       "198            0.725000            0.750000  \n",
       "\n",
       "[199 rows x 6 columns]"
      ]
     },
     "execution_count": 175,
     "metadata": {},
     "output_type": "execute_result"
    }
   ],
   "source": [
    "ytrain_pred = pd.DataFrame(yactual_train)\n",
    "ytrain_pred[\"pred_lin_aro(mean)\"]=ypred_linear[:,0]\n",
    "ytrain_pred[\"pred_lin_val(mean)\"]=ypred_linear[:,1]\n",
    "ytrain_pred[\"pred_knn_aro(mean)\"]=ypred_knn[:,0]\n",
    "ytrain_pred[\"pred_knn_val(mean)\"]=ypred_knn[:,1]\n",
    "ytrain_pred"
   ]
  },
  {
   "cell_type": "code",
   "execution_count": 181,
   "id": "60c01951-7aef-43c2-af23-232b812b886e",
   "metadata": {},
   "outputs": [
    {
     "data": {
      "image/png": "[encoded data removed]",
      "text/plain": [
       "<Figure size 432x288 with 1 Axes>"
      ]
     },
     "metadata": {
      "needs_background": "light"
     },
     "output_type": "display_data"
    }
   ],
   "source": [
    "#cek persebaran data\n",
    "import matplotlib.pyplot as plt\n",
    "plt.scatter(yactual_train[:,0],yactual_train[:,1])\n",
    "plt.show()"
   ]
  },
  {
   "cell_type": "markdown",
   "id": "5dc1350e-ee29-4c43-b35b-a040e13cec6e",
   "metadata": {},
   "source": [
    "### save model"
   ]
  },
  {
   "cell_type": "code",
   "execution_count": 182,
   "id": "d8e9d748-5252-40bc-95ba-788675b9daba",
   "metadata": {},
   "outputs": [],
   "source": [
    "import pickle\n",
    "\n",
    "pickle.dump(linear_model, open('linear_model_mean.sav', 'wb'))\n",
    "pickle.dump(knn_model, open('knn_model_mean.sav', 'wb'))"
   ]
  },
  {
   "cell_type": "code",
   "execution_count": 183,
   "id": "ebf0b0ac-e0d9-4c15-bc7f-e09b8087499f",
   "metadata": {},
   "outputs": [],
   "source": [
    "yactual_test = test_data[:,len_data-2:len_data]"
   ]
  },
  {
   "cell_type": "code",
   "execution_count": 186,
   "id": "d12f479f-fac1-4c07-8d7c-c714098f42af",
   "metadata": {},
   "outputs": [
    {
     "name": "stdout",
     "output_type": "stream",
     "text": [
      "-0.3996217648771383\n"
     ]
    }
   ],
   "source": [
    "# load the model from disk\n",
    "loaded_model = pickle.load(open('knn_model_mean.sav', 'rb'))\n",
    "result = loaded_model.score(features_test,yactual_test)\n",
    "print(result)"
   ]
  },
  {
   "cell_type": "code",
   "execution_count": 188,
   "id": "0d03f7e7-c6e3-4ec8-957d-d4dc92a268ba",
   "metadata": {},
   "outputs": [
    {
     "data": {
      "text/plain": [
       "array([[0.5625    , 0.3625    ],\n",
       "       [0.85      , 0.7625    ],\n",
       "       [0.3625    , 0.7375    ],\n",
       "       [0.675     , 0.7       ],\n",
       "       [0.675     , 0.65      ],\n",
       "       [0.4375    , 0.3625    ],\n",
       "       [0.875     , 0.775     ],\n",
       "       [0.5125    , 0.525     ],\n",
       "       [0.75      , 0.7125    ],\n",
       "       [0.5       , 0.8       ],\n",
       "       [0.7       , 0.675     ],\n",
       "       [0.4125    , 0.275     ],\n",
       "       [0.625     , 0.6125    ],\n",
       "       [0.8125    , 0.85      ],\n",
       "       [0.4       , 0.4625    ],\n",
       "       [0.925     , 0.625     ],\n",
       "       [0.7375    , 0.5       ],\n",
       "       [0.275     , 0.3875    ],\n",
       "       [0.6875    , 0.8375    ],\n",
       "       [0.65      , 0.6625    ],\n",
       "       [0.6375    , 0.6375    ],\n",
       "       [0.3875    , 0.4375    ],\n",
       "       [0.7       , 0.675     ],\n",
       "       [0.8125    , 0.825     ],\n",
       "       [0.6875    , 0.675     ],\n",
       "       [0.7375    , 0.825     ],\n",
       "       [0.8125    , 0.725     ],\n",
       "       [0.4       , 0.5       ],\n",
       "       [0.7625    , 0.7       ],\n",
       "       [0.7125    , 0.625     ],\n",
       "       [0.9       , 0.575     ],\n",
       "       [0.6625    , 0.6       ],\n",
       "       [0.875     , 0.825     ],\n",
       "       [0.47727273, 0.53409091],\n",
       "       [0.9       , 0.8375    ],\n",
       "       [0.8625    , 0.8625    ],\n",
       "       [0.775     , 0.6875    ],\n",
       "       [0.5875    , 0.6375    ],\n",
       "       [0.8       , 0.7875    ],\n",
       "       [0.7625    , 0.8       ],\n",
       "       [0.8       , 0.5875    ],\n",
       "       [0.8625    , 0.7875    ],\n",
       "       [0.825     , 0.5875    ],\n",
       "       [0.825     , 0.7625    ],\n",
       "       [0.7625    , 0.825     ],\n",
       "       [0.45      , 0.7       ],\n",
       "       [0.6125    , 0.65      ],\n",
       "       [0.7125    , 0.65      ],\n",
       "       [0.65      , 0.4875    ]])"
      ]
     },
     "execution_count": 188,
     "metadata": {},
     "output_type": "execute_result"
    }
   ],
   "source": [
    "yactual_test"
   ]
  },
  {
   "cell_type": "code",
   "execution_count": 189,
   "id": "e6963d7a-0245-45b6-94da-96f7f19068ad",
   "metadata": {},
   "outputs": [],
   "source": [
    "ypred_test_knn = loaded_model.predict(features_test)"
   ]
  },
  {
   "cell_type": "code",
   "execution_count": 190,
   "id": "ee15ef06-a86d-4cf2-a50f-526c4cec7106",
   "metadata": {},
   "outputs": [
    {
     "name": "stdout",
     "output_type": "stream",
     "text": [
      "RMSE knn regression: 0.1829932171991603\n"
     ]
    }
   ],
   "source": [
    "# linear_mse = mean_squared_error(yactual_test, ypred_test_linear)\n",
    "knn_mse = mean_squared_error(yactual_test, ypred_test_knn)\n",
    "# linear_rmse = sqrt(linear_mse)\n",
    "knn_rmse = sqrt(knn_mse)\n",
    "# print(\"RMSE linear regression: \"+str(linear_rmse))\n",
    "print(\"RMSE knn regression: \"+str(knn_rmse))"
   ]
  }
 ],
 "metadata": {
  "kernelspec": {
   "display_name": "Python 3 (ipykernel)",
   "language": "python",
   "name": "python3"
  },
  "language_info": {
   "codemirror_mode": {
    "name": "ipython",
    "version": 3
   },
   "file_extension": ".py",
   "mimetype": "text/x-python",
   "name": "python",
   "nbconvert_exporter": "python",
   "pygments_lexer": "ipython3",
   "version": "3.7.6"
  }
 },
 "nbformat": 4,
 "nbformat_minor": 5
}
